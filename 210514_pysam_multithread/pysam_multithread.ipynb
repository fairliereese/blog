{
 "cells": [
  {
   "cell_type": "markdown",
   "id": "personalized-protocol",
   "metadata": {},
   "source": [
    "## pysam multithreading"
   ]
  },
  {
   "cell_type": "markdown",
   "id": "intermediate-native",
   "metadata": {},
   "source": [
    "I recently came across a situation where I needed to use pysam to convert a sam file to a bam file as a part of [TALON](). As samtools view contains a multithreading option (`-@ <int>`)"
   ]
  },
  {
   "cell_type": "markdown",
   "id": "optimum-shadow",
   "metadata": {},
   "source": [
    "Sources: \n",
    "* https://github.com/pysam-developers/pysam/issues/677\n",
    "* https://github.com/pysam-developers/pysam/issues/524\n",
    "* https://github.com/pysam-developers/pysam/pull/638\n",
    "* https://github.com/pysam-developers/pysam/issues/579\n",
    "* https://www.tutorialspoint.com/How-to-find-difference-between-2-files-in-Python\n",
    "* https://stackoverflow.com/questions/16874598/how-do-i-calculate-the-md5-checksum-of-a-file-in-python\n",
    "* https://stackoverflow.com/questions/1557571/how-do-i-get-time-of-a-python-programs-execution\n",
    "* https://stackoverflow.com/questions/7585307/how-to-correct-typeerror-unicode-objects-must-be-encoded-before-hashing"
   ]
  },
  {
   "cell_type": "code",
   "execution_count": null,
   "id": "powered-fitness",
   "metadata": {},
   "outputs": [],
   "source": [
    "import pysam\n",
    "import time\n",
    "import seaborn as sns\n",
    "import pandas as pd\n",
    "import hashlib"
   ]
  },
  {
   "cell_type": "code",
   "execution_count": 7,
   "id": "finite-control",
   "metadata": {},
   "outputs": [],
   "source": [
    "def benchmark_write(threads=1):\n",
    "    infile = pysam.AlignmentFile('uhr_min.sam', 'r', threads=threads)\n",
    "    outfile = pysam.AlignmentFile('uhr_min_pysam.bam', mode='wb', template=infile, threads=threads)\n",
    "    for s in infile:\n",
    "        outfile.write(s)"
   ]
  },
  {
   "cell_type": "code",
   "execution_count": 23,
   "id": "loved-tourist",
   "metadata": {},
   "outputs": [
    {
     "name": "stdout",
     "output_type": "stream",
     "text": [
      "   threads\n",
      "0        1\n",
      "1        2\n",
      "2        3\n",
      "3        4\n",
      "4        5\n",
      "5        6\n",
      "6        7\n",
      "7        8\n"
     ]
    }
   ],
   "source": [
    "df = pd.DataFrame(data=[i for i in range(1,9)], columns=['threads'])\n",
    "print(df)"
   ]
  },
  {
   "cell_type": "code",
   "execution_count": 24,
   "id": "dietary-programmer",
   "metadata": {},
   "outputs": [],
   "source": [
    "for i in range(10):\n",
    "    times = []\n",
    "    \n",
    "    for j in range(1,9):\n",
    "        start = time.time()\n",
    "        benchmark_write(j)\n",
    "        times.append(time.time()-start)\n",
    "    df[i] = times"
   ]
  },
  {
   "cell_type": "code",
   "execution_count": 25,
   "id": "primary-buffalo",
   "metadata": {},
   "outputs": [
    {
     "data": {
      "text/html": [
       "<div>\n",
       "<style scoped>\n",
       "    .dataframe tbody tr th:only-of-type {\n",
       "        vertical-align: middle;\n",
       "    }\n",
       "\n",
       "    .dataframe tbody tr th {\n",
       "        vertical-align: top;\n",
       "    }\n",
       "\n",
       "    .dataframe thead th {\n",
       "        text-align: right;\n",
       "    }\n",
       "</style>\n",
       "<table border=\"1\" class=\"dataframe\">\n",
       "  <thead>\n",
       "    <tr style=\"text-align: right;\">\n",
       "      <th></th>\n",
       "      <th>threads</th>\n",
       "      <th>0</th>\n",
       "      <th>1</th>\n",
       "      <th>2</th>\n",
       "      <th>3</th>\n",
       "      <th>4</th>\n",
       "      <th>5</th>\n",
       "      <th>6</th>\n",
       "      <th>7</th>\n",
       "      <th>8</th>\n",
       "      <th>9</th>\n",
       "    </tr>\n",
       "  </thead>\n",
       "  <tbody>\n",
       "    <tr>\n",
       "      <th>0</th>\n",
       "      <td>1</td>\n",
       "      <td>0.282870</td>\n",
       "      <td>0.265184</td>\n",
       "      <td>0.262383</td>\n",
       "      <td>0.261981</td>\n",
       "      <td>0.267385</td>\n",
       "      <td>0.267241</td>\n",
       "      <td>0.263017</td>\n",
       "      <td>0.302322</td>\n",
       "      <td>0.277804</td>\n",
       "      <td>0.286572</td>\n",
       "    </tr>\n",
       "    <tr>\n",
       "      <th>1</th>\n",
       "      <td>2</td>\n",
       "      <td>0.265000</td>\n",
       "      <td>0.259121</td>\n",
       "      <td>0.263626</td>\n",
       "      <td>0.259267</td>\n",
       "      <td>0.263356</td>\n",
       "      <td>0.261341</td>\n",
       "      <td>0.261066</td>\n",
       "      <td>0.285738</td>\n",
       "      <td>0.277101</td>\n",
       "      <td>0.270543</td>\n",
       "    </tr>\n",
       "    <tr>\n",
       "      <th>2</th>\n",
       "      <td>3</td>\n",
       "      <td>0.155507</td>\n",
       "      <td>0.148933</td>\n",
       "      <td>0.153035</td>\n",
       "      <td>0.150145</td>\n",
       "      <td>0.148652</td>\n",
       "      <td>0.144996</td>\n",
       "      <td>0.175249</td>\n",
       "      <td>0.154428</td>\n",
       "      <td>0.176301</td>\n",
       "      <td>0.151375</td>\n",
       "    </tr>\n",
       "    <tr>\n",
       "      <th>3</th>\n",
       "      <td>4</td>\n",
       "      <td>0.112295</td>\n",
       "      <td>0.111242</td>\n",
       "      <td>0.112823</td>\n",
       "      <td>0.116677</td>\n",
       "      <td>0.110538</td>\n",
       "      <td>0.105395</td>\n",
       "      <td>0.110949</td>\n",
       "      <td>0.113276</td>\n",
       "      <td>0.115702</td>\n",
       "      <td>0.109067</td>\n",
       "    </tr>\n",
       "    <tr>\n",
       "      <th>4</th>\n",
       "      <td>5</td>\n",
       "      <td>0.094919</td>\n",
       "      <td>0.088845</td>\n",
       "      <td>0.095793</td>\n",
       "      <td>0.090943</td>\n",
       "      <td>0.092149</td>\n",
       "      <td>0.093266</td>\n",
       "      <td>0.095547</td>\n",
       "      <td>0.094460</td>\n",
       "      <td>0.091257</td>\n",
       "      <td>0.092118</td>\n",
       "    </tr>\n",
       "    <tr>\n",
       "      <th>5</th>\n",
       "      <td>6</td>\n",
       "      <td>0.074468</td>\n",
       "      <td>0.079772</td>\n",
       "      <td>0.077461</td>\n",
       "      <td>0.076175</td>\n",
       "      <td>0.079677</td>\n",
       "      <td>0.077980</td>\n",
       "      <td>0.083296</td>\n",
       "      <td>0.074861</td>\n",
       "      <td>0.094027</td>\n",
       "      <td>0.077852</td>\n",
       "    </tr>\n",
       "    <tr>\n",
       "      <th>6</th>\n",
       "      <td>7</td>\n",
       "      <td>0.066870</td>\n",
       "      <td>0.070661</td>\n",
       "      <td>0.069208</td>\n",
       "      <td>0.069645</td>\n",
       "      <td>0.070049</td>\n",
       "      <td>0.069167</td>\n",
       "      <td>0.073265</td>\n",
       "      <td>0.068944</td>\n",
       "      <td>0.071436</td>\n",
       "      <td>0.069442</td>\n",
       "    </tr>\n",
       "    <tr>\n",
       "      <th>7</th>\n",
       "      <td>8</td>\n",
       "      <td>0.064417</td>\n",
       "      <td>0.061893</td>\n",
       "      <td>0.063817</td>\n",
       "      <td>0.063894</td>\n",
       "      <td>0.064350</td>\n",
       "      <td>0.065580</td>\n",
       "      <td>0.067776</td>\n",
       "      <td>0.065079</td>\n",
       "      <td>0.070778</td>\n",
       "      <td>0.063519</td>\n",
       "    </tr>\n",
       "  </tbody>\n",
       "</table>\n",
       "</div>"
      ],
      "text/plain": [
       "   threads         0         1         2         3         4         5  \\\n",
       "0        1  0.282870  0.265184  0.262383  0.261981  0.267385  0.267241   \n",
       "1        2  0.265000  0.259121  0.263626  0.259267  0.263356  0.261341   \n",
       "2        3  0.155507  0.148933  0.153035  0.150145  0.148652  0.144996   \n",
       "3        4  0.112295  0.111242  0.112823  0.116677  0.110538  0.105395   \n",
       "4        5  0.094919  0.088845  0.095793  0.090943  0.092149  0.093266   \n",
       "5        6  0.074468  0.079772  0.077461  0.076175  0.079677  0.077980   \n",
       "6        7  0.066870  0.070661  0.069208  0.069645  0.070049  0.069167   \n",
       "7        8  0.064417  0.061893  0.063817  0.063894  0.064350  0.065580   \n",
       "\n",
       "          6         7         8         9  \n",
       "0  0.263017  0.302322  0.277804  0.286572  \n",
       "1  0.261066  0.285738  0.277101  0.270543  \n",
       "2  0.175249  0.154428  0.176301  0.151375  \n",
       "3  0.110949  0.113276  0.115702  0.109067  \n",
       "4  0.095547  0.094460  0.091257  0.092118  \n",
       "5  0.083296  0.074861  0.094027  0.077852  \n",
       "6  0.073265  0.068944  0.071436  0.069442  \n",
       "7  0.067776  0.065079  0.070778  0.063519  "
      ]
     },
     "execution_count": 25,
     "metadata": {},
     "output_type": "execute_result"
    }
   ],
   "source": [
    "df"
   ]
  },
  {
   "cell_type": "code",
   "execution_count": 26,
   "id": "continued-silence",
   "metadata": {},
   "outputs": [],
   "source": [
    "df = df.melt(id_vars='threads', value_vars=[i for i in range(10)])"
   ]
  },
  {
   "cell_type": "code",
   "execution_count": 28,
   "id": "aggressive-employment",
   "metadata": {},
   "outputs": [],
   "source": [
    "df.rename({'value':'time (seconds)'}, axis=1, inplace=True)"
   ]
  },
  {
   "cell_type": "code",
   "execution_count": 29,
   "id": "removable-replica",
   "metadata": {},
   "outputs": [
    {
     "data": {
      "text/html": [
       "<div>\n",
       "<style scoped>\n",
       "    .dataframe tbody tr th:only-of-type {\n",
       "        vertical-align: middle;\n",
       "    }\n",
       "\n",
       "    .dataframe tbody tr th {\n",
       "        vertical-align: top;\n",
       "    }\n",
       "\n",
       "    .dataframe thead th {\n",
       "        text-align: right;\n",
       "    }\n",
       "</style>\n",
       "<table border=\"1\" class=\"dataframe\">\n",
       "  <thead>\n",
       "    <tr style=\"text-align: right;\">\n",
       "      <th></th>\n",
       "      <th>threads</th>\n",
       "      <th>variable</th>\n",
       "      <th>time (seconds)</th>\n",
       "    </tr>\n",
       "  </thead>\n",
       "  <tbody>\n",
       "    <tr>\n",
       "      <th>0</th>\n",
       "      <td>1</td>\n",
       "      <td>0</td>\n",
       "      <td>0.282870</td>\n",
       "    </tr>\n",
       "    <tr>\n",
       "      <th>1</th>\n",
       "      <td>2</td>\n",
       "      <td>0</td>\n",
       "      <td>0.265000</td>\n",
       "    </tr>\n",
       "    <tr>\n",
       "      <th>2</th>\n",
       "      <td>3</td>\n",
       "      <td>0</td>\n",
       "      <td>0.155507</td>\n",
       "    </tr>\n",
       "    <tr>\n",
       "      <th>3</th>\n",
       "      <td>4</td>\n",
       "      <td>0</td>\n",
       "      <td>0.112295</td>\n",
       "    </tr>\n",
       "    <tr>\n",
       "      <th>4</th>\n",
       "      <td>5</td>\n",
       "      <td>0</td>\n",
       "      <td>0.094919</td>\n",
       "    </tr>\n",
       "    <tr>\n",
       "      <th>...</th>\n",
       "      <td>...</td>\n",
       "      <td>...</td>\n",
       "      <td>...</td>\n",
       "    </tr>\n",
       "    <tr>\n",
       "      <th>75</th>\n",
       "      <td>4</td>\n",
       "      <td>9</td>\n",
       "      <td>0.109067</td>\n",
       "    </tr>\n",
       "    <tr>\n",
       "      <th>76</th>\n",
       "      <td>5</td>\n",
       "      <td>9</td>\n",
       "      <td>0.092118</td>\n",
       "    </tr>\n",
       "    <tr>\n",
       "      <th>77</th>\n",
       "      <td>6</td>\n",
       "      <td>9</td>\n",
       "      <td>0.077852</td>\n",
       "    </tr>\n",
       "    <tr>\n",
       "      <th>78</th>\n",
       "      <td>7</td>\n",
       "      <td>9</td>\n",
       "      <td>0.069442</td>\n",
       "    </tr>\n",
       "    <tr>\n",
       "      <th>79</th>\n",
       "      <td>8</td>\n",
       "      <td>9</td>\n",
       "      <td>0.063519</td>\n",
       "    </tr>\n",
       "  </tbody>\n",
       "</table>\n",
       "<p>80 rows × 3 columns</p>\n",
       "</div>"
      ],
      "text/plain": [
       "    threads variable  time (seconds)\n",
       "0         1        0        0.282870\n",
       "1         2        0        0.265000\n",
       "2         3        0        0.155507\n",
       "3         4        0        0.112295\n",
       "4         5        0        0.094919\n",
       "..      ...      ...             ...\n",
       "75        4        9        0.109067\n",
       "76        5        9        0.092118\n",
       "77        6        9        0.077852\n",
       "78        7        9        0.069442\n",
       "79        8        9        0.063519\n",
       "\n",
       "[80 rows x 3 columns]"
      ]
     },
     "execution_count": 29,
     "metadata": {},
     "output_type": "execute_result"
    }
   ],
   "source": [
    "df"
   ]
  },
  {
   "cell_type": "code",
   "execution_count": 30,
   "id": "meaning-perth",
   "metadata": {},
   "outputs": [
    {
     "data": {
      "text/plain": [
       "<AxesSubplot:xlabel='threads', ylabel='time (seconds)'>"
      ]
     },
     "execution_count": 30,
     "metadata": {},
     "output_type": "execute_result"
    },
    {
     "data": {
      "image/png": "[encoded data removed]",
      "text/plain": [
       "<Figure size 432x288 with 1 Axes>"
      ]
     },
     "metadata": {
      "needs_background": "light"
     },
     "output_type": "display_data"
    }
   ],
   "source": [
    "sns.lineplot(data=df, x='threads', y='time (seconds)')"
   ]
  },
  {
   "cell_type": "markdown",
   "id": "furnished-liechtenstein",
   "metadata": {},
   "source": [
    "As we can see, even on just ~3000 sequences, multithreading SAM -> BAM compression provides considerable speedup. "
   ]
  },
  {
   "cell_type": "markdown",
   "id": "moral-liberal",
   "metadata": {},
   "source": [
    "To verify that we the multithreaded version gave us the correct output files, let's check if the contents of our files are the same. NOTE: samtools operations add additional lines to the file headers so we WON'T be checking the file headers!"
   ]
  },
  {
   "cell_type": "code",
   "execution_count": 5,
   "id": "alive-street",
   "metadata": {},
   "outputs": [],
   "source": [
    "# sort and convert to sam without the headers\n",
    "\n",
    "# control - made with `samtools view -Sb sam > bam`\n",
    "infile = 'uhr_min.bam'\n",
    "ofile = 'uhr_min_sorted.bam'\n",
    "pysam.sort('-o', ofile, infile)\n",
    "ofile_sam = 'uhr_min_sorted.sam'\n",
    "pysam.view('-o', ofile_sam, ofile, save_stdout=ofile_sam)\n",
    "\n",
    "# pysam multithreaded bam we just wrote\n",
    "infile = 'uhr_min_pysam.bam'\n",
    "ofile = 'uhr_min_pysam_sorted.bam'\n",
    "pysam.sort('-o', ofile, infile)\n",
    "ofile_sam = 'uhr_min_pysam_sorted.sam'\n",
    "pysam.view('-o', ofile_sam, ofile, save_stdout=ofile_sam)"
   ]
  },
  {
   "cell_type": "markdown",
   "id": "loving-narrow",
   "metadata": {},
   "source": [
    "```bash\n",
    "diff uhr_min_sorted.sam uhr_min_pysam_sorted.sam\n",
    "```"
   ]
  },
  {
   "cell_type": "code",
   "execution_count": 16,
   "id": "automated-walnut",
   "metadata": {
    "jupyter": {
     "source_hidden": true
    }
   },
   "outputs": [],
   "source": [
    "# with open('uhr_min_sorted.sam') as f1:\n",
    "#     f1_text = f1.read()\n",
    "# with open('uhr_min_pysam_sorted.sam') as f2:\n",
    "#     f2_text = f2.read()\n",
    "# # # Find and print the diff:\n",
    "# # for line in difflib.unified_diff(f1_text, f2_text, fromfile='file1', tofile='file2', lineterm=''):\n",
    "# #     print(line)"
   ]
  },
  {
   "cell_type": "code",
   "execution_count": null,
   "id": "developing-healing",
   "metadata": {
    "jupyter": {
     "source_hidden": true
    }
   },
   "outputs": [],
   "source": [
    "# beep = difflib.unified_diff(f1_text, f2_text, fromfile='file1', tofile='file2', lineterm='')\n",
    "# for b in beep:\n",
    "#     print(b)"
   ]
  },
  {
   "cell_type": "markdown",
   "id": "severe-korean",
   "metadata": {},
   "source": [
    "No output, which means the files are the same! To make sure though, we'll also check the md5sums, which should be identical."
   ]
  },
  {
   "cell_type": "code",
   "execution_count": 14,
   "id": "trying-session",
   "metadata": {},
   "outputs": [
    {
     "data": {
      "text/plain": [
       "True"
      ]
     },
     "execution_count": 14,
     "metadata": {},
     "output_type": "execute_result"
    }
   ],
   "source": [
    "ctrl_md5 = hashlib.md5(open('uhr_min_sorted.sam','rb').read()).hexdigest()\n",
    "pysam_md5 = hashlib.md5(open('uhr_min_pysam_sorted.sam','rb').read()).hexdigest()\n",
    "\n",
    "ctrl_md5 == pysam_md5"
   ]
  },
  {
   "cell_type": "markdown",
   "id": "sporting-lesbian",
   "metadata": {},
   "source": [
    "The comparison shows that the two are equivalent, so we are good!"
   ]
  },
  {
   "cell_type": "markdown",
   "id": "little-original",
   "metadata": {
    "jupyter": {
     "source_hidden": true
    }
   },
   "source": [
    "```bash\n",
    "module load samtools\n",
    "\n",
    "# sort, convert only sequences to sam\n",
    "\n",
    "# control - made with `samtools view -Sb sam > bam`\n",
    "samtools sort uhr_min.bam > uhr_min_sorted.bam\n",
    "samtools view uhr_min_sorted.bam > uhr_min_sorted.sam\n",
    "\n",
    "# pysam multithreaded version that we just made\n",
    "samtools sort uhr_min_pysam.bam > uhr_min_pysam_sorted.bam\n",
    "samtools view uhr_min_pysam_sorted.bam > uhr_min_pysam_sorted.sam\n",
    "\n",
    "diff uhr_min_sorted.sam uhr_min_pysam_sorted.sam\n",
    "```"
   ]
  },
  {
   "cell_type": "markdown",
   "id": "reported-angle",
   "metadata": {
    "jupyter": {
     "source_hidden": true
    }
   },
   "source": [
    "No output, so the file contents are the same! Just to check though, lets compute the md5sum of each file, which should be identical."
   ]
  },
  {
   "cell_type": "markdown",
   "id": "lasting-wedding",
   "metadata": {
    "jupyter": {
     "source_hidden": true
    }
   },
   "source": [
    "```bash\n",
    "md5sum uhr_min_sorted.sam\n",
    "md5sum uhr_min_pysam_sorted.sam\n",
    "```"
   ]
  },
  {
   "cell_type": "markdown",
   "id": "headed-polymer",
   "metadata": {
    "jupyter": {
     "source_hidden": true
    }
   },
   "source": [
    "> 8d6f8db5633ec1ae4ec40435b0850559  uhr_min_sorted.sam\n",
    "> 8d6f8db5633ec1ae4ec40435b0850559  uhr_min_pysam_sorted.sam\n",
    "\n",
    "So we're good!"
   ]
  }
 ],
 "metadata": {
  "kernelspec": {
   "display_name": "Python 3",
   "language": "python",
   "name": "python3"
  },
  "language_info": {
   "codemirror_mode": {
    "name": "ipython",
    "version": 3
   },
   "file_extension": ".py",
   "mimetype": "text/x-python",
   "name": "python",
   "nbconvert_exporter": "python",
   "pygments_lexer": "ipython3",
   "version": "3.7.4"
  }
 },
 "nbformat": 4,
 "nbformat_minor": 5
}
