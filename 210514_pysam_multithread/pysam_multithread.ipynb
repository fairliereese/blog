{
 "cells": [
  {
   "cell_type": "markdown",
   "id": "cooperative-heading",
   "metadata": {},
   "source": [
    "## Multithreading pysam SAM to BAM conversion"
   ]
  },
  {
   "cell_type": "markdown",
   "id": "occupied-party",
   "metadata": {},
   "source": [
    "I recently came across a situation where I needed to use pysam to convert a sam file to a bam file as a part of [TALON](https://github.com/mortazavilab/TALON). As `samtools view` contains a multithreading option (`-@ <int>`) and pysam enables users to call these samtools commands from Python, I figured I could use `pysam.view()` with the `-@` option to compress my sam file to a bam file. However even after trying around 5 or 6 different combinations of arguments detailed mainly in [this pysam issue thread](https://github.com/pysam-developers/pysam/issues/677), I was unable to get it to work. \n",
    "\n",
    "I therefore sought different solutions still within pysam and came across the following threads detailing the need for and subsequent implementation of readers and writers that can employ multithreading: [here](https://github.com/pysam-developers/pysam/issues/524), [and here](https://github.com/pysam-developers/pysam/issues/579), [and finally here](https://github.com/pysam-developers/pysam/pull/638). \n",
    "\n",
    "So at some point the developers implemented multithreaded file I/O but in my opinion, [the pysam documentation](https://pysam.readthedocs.io/en/latest/api.html#pysam.AlignmentFile) still does a rather poor job explaining it. Therefore I used the code detailed in the [pull request](https://github.com/pysam-developers/pysam/pull/638) that added multithreaded I/O functionality. \n",
    "\n",
    "In the following brief tutorial, I show how to compress a sam file into a bam file using pysam using multithreading, demonstrate the speedup gained from running the command on increasing numbers of cores, and show that the contents of the resultant bam file are the same as they would be had we compressed using `samtools view -Sb` from the terminal. "
   ]
  },
  {
   "cell_type": "markdown",
   "id": "killing-donna",
   "metadata": {},
   "source": [
    "First, lets make a \"ground truth\" bam file using regular `samtools view -Sb`.\n",
    "\n",
    "```bash \n",
    "samtools view -Sb c2c12_500k.sam > c2c12_500k.bam\n",
    "```"
   ]
  },
  {
   "cell_type": "markdown",
   "id": "eight-declaration",
   "metadata": {},
   "source": [
    "Next, we'll convert from sam -> bam multiple times using different numbers of cores."
   ]
  },
  {
   "cell_type": "code",
   "execution_count": 3,
   "id": "cardiovascular-civilian",
   "metadata": {},
   "outputs": [],
   "source": [
    "import pysam\n",
    "import time\n",
    "import seaborn as sns\n",
    "import pandas as pd\n",
    "import hashlib"
   ]
  },
  {
   "cell_type": "code",
   "execution_count": null,
   "id": "marine-prison",
   "metadata": {},
   "outputs": [],
   "source": [
    "sam = 'c2c12_500k.sam'"
   ]
  },
  {
   "cell_type": "code",
   "execution_count": 7,
   "id": "rocky-sitting",
   "metadata": {},
   "outputs": [],
   "source": [
    "def benchmark_write(samfile, threads):\n",
    "    bamfile = samfile[:-4]+'_pysam.bam'\n",
    "    infile = pysam.AlignmentFile(samfile, 'r', threads=threads)\n",
    "    outfile = pysam.AlignmentFile(bamfile, mode='wb',\n",
    "                                    template=infile, threads=threads)\n",
    "    for s in infile:\n",
    "        outfile.write(s)"
   ]
  },
  {
   "cell_type": "code",
   "execution_count": 4,
   "id": "twelve-fifteen",
   "metadata": {},
   "outputs": [],
   "source": [
    "df = pd.DataFrame(data=[i for i in range(1,17)], columns=['threads'])"
   ]
  },
  {
   "cell_type": "code",
   "execution_count": 24,
   "id": "smaller-message",
   "metadata": {},
   "outputs": [],
   "source": [
    "for i in range(10):\n",
    "    times = []\n",
    "    \n",
    "    for j in range(1,17):\n",
    "        start = time.time()\n",
    "        benchmark_write(sam, j)\n",
    "        times.append(time.time()-start)\n",
    "    df[i] = times"
   ]
  },
  {
   "cell_type": "code",
   "execution_count": null,
   "id": "prospective-bottom",
   "metadata": {},
   "outputs": [],
   "source": [
    "df = df.melt(id_vars='threads', value_vars=[i for i in range(10)])\n",
    "df.rename({'value':'time (seconds)'}, axis=1, inplace=True)\n",
    "sns.lineplot(data=df, x='threads', y='time (seconds)')\n",
    "plt.savefig('pysam_multithread.png')"
   ]
  },
  {
   "cell_type": "markdown",
   "id": "certified-mozambique",
   "metadata": {},
   "source": [
    "As we can see, even on just ~500k sequences, multithreading SAM -> BAM compression provides considerable speedup. "
   ]
  },
  {
   "cell_type": "markdown",
   "id": "physical-contrast",
   "metadata": {},
   "source": [
    "###### TODO embed image here"
   ]
  },
  {
   "cell_type": "markdown",
   "id": "italic-victorian",
   "metadata": {},
   "source": [
    "To verify that we the multithreaded version gave us the correct output files, let's check if the contents of our files are the same. NOTE: samtools operations add additional lines to the file headers so we WON'T be checking the file headers!"
   ]
  },
  {
   "cell_type": "code",
   "execution_count": 5,
   "id": "impressed-mobility",
   "metadata": {},
   "outputs": [],
   "source": [
    "# sort to ensure sequences are in the same order\n",
    "# convert to sam without the headers\n",
    "pref = sam[:-4]\n",
    "\n",
    "# control - made with `samtools view -Sb sam > bam`\n",
    "infile = pref+'.bam'\n",
    "ofile = pref+'_sorted.bam'\n",
    "pysam.sort('-o', ofile, infile)\n",
    "ofile_sam = pref+'_sorted.sam'\n",
    "f = open(ofile_sam, 'w')\n",
    "f.close()\n",
    "pysam.view('-o', ofile_sam, ofile, save_stdout=ofile_sam)\n",
    "\n",
    "# pysam multithreaded bam we just wrote\n",
    "infile = pref+'_pysam.bam'\n",
    "ofile = pref+'_pysam_sorted.bam'\n",
    "pysam.sort('-o', ofile, infile)\n",
    "ofile_sam = pref+'_pysam_sorted.sam'\n",
    "f = open(ofile_sam, 'w')\n",
    "f.close()\n",
    "pysam.view('-o', ofile_sam, ofile, save_stdout=ofile_sam)"
   ]
  },
  {
   "cell_type": "markdown",
   "id": "frequent-helping",
   "metadata": {},
   "source": [
    "I tried but I could not figure out a way that worked to easily diff files in python, so use the bash `diff` tool to compare the contents of the files. "
   ]
  },
  {
   "cell_type": "markdown",
   "id": "following-greensboro",
   "metadata": {},
   "source": [
    "```bash\n",
    "diff c2c12_500k_sorted.sam c2c12_500k_pysam_sorted.sam\n",
    "```"
   ]
  },
  {
   "cell_type": "markdown",
   "id": "operating-brazilian",
   "metadata": {},
   "source": [
    "No output, which means the files are the same! To make sure though, we'll also check the md5sums, which should be identical."
   ]
  },
  {
   "cell_type": "code",
   "execution_count": 14,
   "id": "noble-dodge",
   "metadata": {},
   "outputs": [
    {
     "data": {
      "text/plain": [
       "True"
      ]
     },
     "execution_count": 14,
     "metadata": {},
     "output_type": "execute_result"
    }
   ],
   "source": [
    "ctrl_md5 = hashlib.md5(open('uhr_min_sorted.sam','rb').read()).hexdigest()\n",
    "pysam_md5 = hashlib.md5(open('uhr_min_pysam_sorted.sam','rb').read()).hexdigest()\n",
    "\n",
    "print(ctrl_md5 == pysam_md5)"
   ]
  },
  {
   "cell_type": "markdown",
   "id": "accepting-savings",
   "metadata": {},
   "source": [
    "The comparison shows that the two are equivalent, so the file contents are identical, and I can now confidently use multithreading to compress sams to bams in pysam."
   ]
  },
  {
   "cell_type": "markdown",
   "id": "desperate-bulgarian",
   "metadata": {},
   "source": [
    "References: \n",
    "* https://github.com/pysam-developers/pysam/issues/677\n",
    "* https://github.com/pysam-developers/pysam/issues/524\n",
    "* https://github.com/pysam-developers/pysam/pull/638\n",
    "* https://github.com/pysam-developers/pysam/issues/579\n",
    "* https://stackoverflow.com/questions/16874598/how-do-i-calculate-the-md5-checksum-of-a-file-in-python\n",
    "* https://stackoverflow.com/questions/1557571/how-do-i-get-time-of-a-python-programs-execution\n",
    "* https://stackoverflow.com/questions/7585307/how-to-correct-typeerror-unicode-objects-must-be-encoded-before-hashing"
   ]
  }
 ],
 "metadata": {
  "kernelspec": {
   "display_name": "Python 3",
   "language": "python",
   "name": "python3"
  },
  "language_info": {
   "codemirror_mode": {
    "name": "ipython",
    "version": 3
   },
   "file_extension": ".py",
   "mimetype": "text/x-python",
   "name": "python",
   "nbconvert_exporter": "python",
   "pygments_lexer": "ipython3",
   "version": "3.7.4"
  }
 },
 "nbformat": 4,
 "nbformat_minor": 5
}
